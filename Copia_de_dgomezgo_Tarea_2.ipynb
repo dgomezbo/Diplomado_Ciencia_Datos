{
  "cells": [
    {
      "cell_type": "markdown",
      "metadata": {
        "id": "view-in-github",
        "colab_type": "text"
      },
      "source": [
        "<a href=\"https://colab.research.google.com/github/dgomezbo/Diplomado_Ciencia_Datos/blob/main/Copia_de_dgomezgo_Tarea_2.ipynb\" target=\"_parent\"><img src=\"https://colab.research.google.com/assets/colab-badge.svg\" alt=\"Open In Colab\"/></a>"
      ]
    },
    {
      "cell_type": "markdown",
      "id": "9f46c25f-fda1-48fc-a38c-ed8c436cfdd6",
      "metadata": {
        "id": "9f46c25f-fda1-48fc-a38c-ed8c436cfdd6"
      },
      "source": [
        "**Tarea 2: Medidas estadísticas de dispersión: la desviación estándar**"
      ]
    },
    {
      "cell_type": "markdown",
      "id": "0fecd37b-af7a-415f-b683-6e4a36c59e81",
      "metadata": {
        "id": "0fecd37b-af7a-415f-b683-6e4a36c59e81"
      },
      "source": [
        "![image.png](attachment:24864cbb-0353-44b5-9800-5963a77c9ff0.png)\n",
        "\n",
        "Fuente: [Wikipedia] Google Images: https://www.google.com.co/url?sa=i&url=https%3A%2F%2Fes.wikipedia.org%2Fwiki%2FMedidas_de_dispersi%25C3%25B3n&psig=AOvVaw3eOjrnV0Yqr8rFEE7_ygII&ust=1691428868986000&source=images&cd=vfe&opi=89978449&ved=2ahUKEwix5brYxciAAxVsSTABHXzkAb8QjRx6BAgAEAw\n",
        "\n",
        "\n",
        "</center>\n"
      ]
    },
    {
      "cell_type": "markdown",
      "id": "25a82346-3a20-41a8-b334-b5961d81a58a",
      "metadata": {
        "id": "25a82346-3a20-41a8-b334-b5961d81a58a"
      },
      "source": [
        "*Autor: David Manuel Gómez Bolívar*"
      ]
    },
    {
      "cell_type": "markdown",
      "id": "6eaf7e24-9c3c-4412-bdd7-d2950c776670",
      "metadata": {
        "id": "6eaf7e24-9c3c-4412-bdd7-d2950c776670"
      },
      "source": [
        "![image.png](attachment:33ca899e-8fa7-4cd0-8d2f-b03d89c602ef.png)\n"
      ]
    },
    {
      "cell_type": "markdown",
      "id": "a2092b6b-9e53-45e9-aa51-60037dc6becb",
      "metadata": {
        "id": "a2092b6b-9e53-45e9-aa51-60037dc6becb"
      },
      "source": [
        "Experto financiero y gestor innovador, con comunicación eficaz y facilidad para solución de problemas, así como con alta capacidad de coordinación y planeación de equipos de trabajo. Autodidacta más allá de múltiples diplomados y cursos en gerencia, finanzas, métodos cuantitativos y tecnología. Fortaleza en Finanzas Corporativas, Mercado de Dinero y de Capitales, Gestión de Riesgo, Project Finance, US GAAP / IFRS y promotor de mejores prácticas internacionales en Estructuración Financiera, Métodos Cuantitativos, Derivados Financieros, Opciones Reales, Asset Management, Valoración de Empresas y de Activos Financieros, e Inteligencia Artificial.\n",
        "\n",
        "Trabajador en equipo, con liderazgo, adaptable a nuevos ambientes, aprendizaje continuo, y con alta habilidad para transferencia de conocimiento. Experiencia en diferentes sectores (financiero, real, consultoría, auditoría y público).\n",
        "\n",
        "Experiencia como docente universitario de Mercados Financieros y de Capitales, Financiación, Decisiones de Inversión, Opciones Reales, Riesgo, Evaluación de Proyectos de Inversión, Estrategia Financiera, Organizaciones Económicas Internacionales, Bloomberg, entre otros; así como en capacitaciones sobre IFRS, Derivados Financieros, Finanzas Corporativas y Startups. Certificado en Bloomberg Markets Concepts (BMC).\n",
        "\n"
      ]
    },
    {
      "cell_type": "markdown",
      "id": "e61865ac-0abb-43a4-9457-0e7a9aebcd3a",
      "metadata": {
        "id": "e61865ac-0abb-43a4-9457-0e7a9aebcd3a"
      },
      "source": [
        "*Desviación estándar*"
      ]
    },
    {
      "cell_type": "markdown",
      "id": "e55b0b52-2ed4-4bbe-8514-e898c0eaa95d",
      "metadata": {
        "id": "e55b0b52-2ed4-4bbe-8514-e898c0eaa95d"
      },
      "source": [
        "Si bien es cierto las medidas de tendencia central son las más conocidas por la mayoría de \"ciudadanos a pie\", es primordial entender la desviación estándar como una de las medidas estadísticas de otra familia, la cual se denomina **dispersión**.\n",
        "\n",
        "A partir de ello, la desviación estándar refleja el nivel de cercanía (o separación) que tienen los datos (variables) observados con respecto a su media aritmética (promedio).\n",
        "\n",
        "De esta forma, en dos muestras que comparten un promedio igual, se pueden observar dos desviaciones estándar diferentes. Esto porque quizás una muestra tiene menor nivel de *separación* entre sus variables, con respecto a su promedio; que la otra muestra. Esto es relevante a nivel de finanzas, dado que la desviación estándar es la primera medida estadística que infiere un concepto muy importante para el riesgo: **volatilidad**."
      ]
    },
    {
      "cell_type": "markdown",
      "id": "bb4b04c3-afed-498a-9385-3c6c5eb47e91",
      "metadata": {
        "id": "bb4b04c3-afed-498a-9385-3c6c5eb47e91"
      },
      "source": [
        "Sin embargo, se debe tener en cuenta que la medición estadística de dispersión primaria es la varianza, de la cual, al calcular su raíz cuadrada, se obtiene la desviación estándar. A continuación, su fórmula:\n",
        "\n",
        "![image.png](attachment:ee802162-325e-4eda-affe-05f22a120764.png)\n",
        "\n",
        "![image.png](attachment:d9ea112c-d85b-452a-8bf7-a4d25ff879f0.png)\n",
        "\n",
        "Fuente: Economipedia, en https://www.google.com.co/imgres?imgurl=https%3A%2F%2Feconomipedia.com%2Fwp-content%2Fuploads%2FMedidas-de-dispersi%25C3%25B3n-estad%25C3%25ADstica.png&tbnid=JSiEMP6gBtJYaM&vet=12ahUKEwiiuPjSxciAAxWrjrAFHcOGCVwQMygAegUIARDNAQ..i&imgrefurl=https%3A%2F%2Feconomipedia.com%2Fdefiniciones%2Fmedidas-de-dispersion.html&docid=delTWnY-7He9-M&w=1080&h=1080&q=medida%20estad%C3%ADstica%20de%20dispersi%C3%B3n&hl=es&authuser=0&ved=2ahUKEwiiuPjSxciAAxWrjrAFHcOGCVwQMygAegUIARDNAQ"
      ]
    },
    {
      "cell_type": "markdown",
      "id": "965b4281-b37f-4d55-b380-e34534870e7e",
      "metadata": {
        "id": "965b4281-b37f-4d55-b380-e34534870e7e"
      },
      "source": [
        "En dicho contexto, la desviación estándar tiene la siguiente fórmula:"
      ]
    },
    {
      "cell_type": "markdown",
      "id": "849119e5-e33c-45c6-a31f-a3b61c632628",
      "metadata": {
        "id": "849119e5-e33c-45c6-a31f-a3b61c632628"
      },
      "source": [
        "![image.png](attachment:484d531b-1d09-499f-ab7c-848e89856c52.png)\n",
        "\n",
        "![image.png](attachment:0f571d32-b5b9-4a34-8ff5-61575b58e8e9.png)\n",
        "\n",
        "Fuente: Economipedia, en https://www.google.com.co/imgres?imgurl=https%3A%2F%2Feconomipedia.com%2Fwp-content%2Fuploads%2FMedidas-de-dispersi%25C3%25B3n-estad%25C3%25ADstica.png&tbnid=JSiEMP6gBtJYaM&vet=12ahUKEwiiuPjSxciAAxWrjrAFHcOGCVwQMygAegUIARDNAQ..i&imgrefurl=https%3A%2F%2Feconomipedia.com%2Fdefiniciones%2Fmedidas-de-dispersion.html&docid=delTWnY-7He9-M&w=1080&h=1080&q=medida%20estad%C3%ADstica%20de%20dispersi%C3%B3n&hl=es&authuser=0&ved=2ahUKEwiiuPjSxciAAxWrjrAFHcOGCVwQMygAegUIARDNAQ"
      ]
    },
    {
      "cell_type": "markdown",
      "id": "34102a73-ad00-449b-b325-0e1467b35c93",
      "metadata": {
        "id": "34102a73-ad00-449b-b325-0e1467b35c93"
      },
      "source": [
        "**Ejemplo**\n",
        "\n",
        "Después de importar los módulos *Pandas* y *Openpyxl*, importaremos un archivo muy sencillo de Excel, para poder calcular la media aritmética y la desviación estándar."
      ]
    },
    {
      "cell_type": "code",
      "execution_count": null,
      "id": "16c8ca3a-849f-4e1b-8380-d6f352bb4190",
      "metadata": {
        "id": "16c8ca3a-849f-4e1b-8380-d6f352bb4190"
      },
      "outputs": [],
      "source": [
        "import pandas as pd"
      ]
    },
    {
      "cell_type": "code",
      "execution_count": null,
      "id": "3fd76c0f-fedd-450b-9908-85ae2f0cbbd9",
      "metadata": {
        "id": "3fd76c0f-fedd-450b-9908-85ae2f0cbbd9",
        "outputId": "a0e149dd-4d80-4819-930f-651d60d78109",
        "colab": {
          "base_uri": "https://localhost:8080/"
        }
      },
      "outputs": [
        {
          "output_type": "stream",
          "name": "stdout",
          "text": [
            "Requirement already satisfied: openpyxl in /usr/local/lib/python3.10/dist-packages (3.0.10)\n",
            "Requirement already satisfied: et-xmlfile in /usr/local/lib/python3.10/dist-packages (from openpyxl) (1.1.0)\n"
          ]
        }
      ],
      "source": [
        "pip install openpyxl"
      ]
    },
    {
      "cell_type": "code",
      "execution_count": null,
      "id": "fa888499-d907-4bb8-b5d7-40b2118b7361",
      "metadata": {
        "id": "fa888499-d907-4bb8-b5d7-40b2118b7361"
      },
      "outputs": [],
      "source": [
        "import openpyxl"
      ]
    },
    {
      "cell_type": "code",
      "execution_count": null,
      "id": "43606cc8-f1c7-4f92-851f-077de7aa635b",
      "metadata": {
        "id": "43606cc8-f1c7-4f92-851f-077de7aa635b"
      },
      "outputs": [],
      "source": [
        "#ejemplo = pd.read_excel(io=r'C:\\Personal PC\\Posgrado\\UNAL 2023\\Tareas\\dgomezbo Ejemplo Tarea2.xlsx', sheet_name='Base')\n",
        "ejemplo = pd.read_excel(io=r'/dgomezbo Ejemplo Tarea2.xlsx', sheet_name='Base')"
      ]
    },
    {
      "cell_type": "code",
      "source": [
        "from google.colab import drive\n",
        "drive.mount('/content/drive')"
      ],
      "metadata": {
        "id": "bwLm2gbDOWJ4",
        "outputId": "a73aa1c7-2673-43b9-b197-0d5d4583aa1d",
        "colab": {
          "base_uri": "https://localhost:8080/"
        }
      },
      "id": "bwLm2gbDOWJ4",
      "execution_count": null,
      "outputs": [
        {
          "output_type": "stream",
          "name": "stdout",
          "text": [
            "Mounted at /content/drive\n"
          ]
        }
      ]
    },
    {
      "cell_type": "code",
      "source": [
        "print(ejemplo)"
      ],
      "metadata": {
        "id": "k_UZdCM8POGb",
        "outputId": "b81c3a4a-d6ae-46e1-88f3-f28d5675a93b",
        "colab": {
          "base_uri": "https://localhost:8080/"
        }
      },
      "id": "k_UZdCM8POGb",
      "execution_count": null,
      "outputs": [
        {
          "output_type": "stream",
          "name": "stdout",
          "text": [
            "   Muestra A  Muestra B\n",
            "0          1          0\n",
            "1          2          1\n",
            "2          3          3\n",
            "3          5          5\n",
            "4          6          6\n",
            "5          7          7\n",
            "6          8          8\n",
            "7         12         12\n",
            "8         14         15\n",
            "9         15         16\n"
          ]
        }
      ]
    },
    {
      "cell_type": "code",
      "source": [
        "ejemplo.dtypes #tipo de objeto en cada columna\n",
        "print(\"\\n\")\n",
        "print(ejemplo.describe())\n",
        "print(\"\\n\")"
      ],
      "metadata": {
        "id": "GSmHYir5PQdR",
        "outputId": "50ca0d5e-6472-4dcd-d2bf-dd44349c300e",
        "colab": {
          "base_uri": "https://localhost:8080/"
        }
      },
      "id": "GSmHYir5PQdR",
      "execution_count": null,
      "outputs": [
        {
          "output_type": "stream",
          "name": "stdout",
          "text": [
            "\n",
            "\n",
            "       Muestra A  Muestra B\n",
            "count  10.000000  10.000000\n",
            "mean    7.300000   7.300000\n",
            "std     4.945256   5.538752\n",
            "min     1.000000   0.000000\n",
            "25%     3.500000   3.500000\n",
            "50%     6.500000   6.500000\n",
            "75%    11.000000  11.000000\n",
            "max    15.000000  16.000000\n",
            "\n",
            "\n"
          ]
        }
      ]
    },
    {
      "cell_type": "markdown",
      "source": [
        "Como se puede observar, las 2 muestras tienen la misma media aritmética (7.3), pero su desviación estándar es diferente (4.94 vs 5.54).\n",
        "\n",
        "Muchas gracias."
      ],
      "metadata": {
        "id": "PpdplHWYPT-a"
      },
      "id": "PpdplHWYPT-a"
    },
    {
      "cell_type": "markdown",
      "source": [
        "Referencia de módulo openpyxl: *YouTube Channel - Grow up: Carga Datos de Excel a Python de diferentes formas*"
      ],
      "metadata": {
        "id": "erf4qMloPVEK"
      },
      "id": "erf4qMloPVEK"
    }
  ],
  "metadata": {
    "kernelspec": {
      "display_name": "Python 3",
      "language": "python",
      "name": "python3"
    },
    "language_info": {
      "codemirror_mode": {
        "name": "ipython",
        "version": 3
      },
      "file_extension": ".py",
      "mimetype": "text/x-python",
      "name": "python",
      "nbconvert_exporter": "python",
      "pygments_lexer": "ipython3",
      "version": "3.8.8"
    },
    "colab": {
      "provenance": [],
      "include_colab_link": true
    }
  },
  "nbformat": 4,
  "nbformat_minor": 5
}