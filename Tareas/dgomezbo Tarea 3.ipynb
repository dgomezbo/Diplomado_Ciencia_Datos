{
 "cells": [
  {
   "cell_type": "markdown",
   "id": "1b1676d0-b4aa-460e-81c6-52638a431c3f",
   "metadata": {},
   "source": [
    "## <span style=\"color:#4361EE\"><center>**Riesgo de Crédito: Análisis de sentimiento de noticias (Procesamiento de Lenguaje Natural) para alarmas de cupos de contraparte/emisor internacionales**<center></span>"
   ]
  },
  {
   "cell_type": "markdown",
   "id": "6b2986e2-212e-4f38-baf0-7dcee86667c9",
   "metadata": {},
   "source": [
    "<figure>\n",
    "<center>\n",
    "<img src=\"https://encrypted-tbn0.gstatic.com/images?q=tbn:ANd9GcRKcd20Acw1nDO2jYqbFjMGBph0TC_HGj8AAw&usqp=CAU\" width=\"175\" height=\"125\" align=\"center\"/>\n",
    "</center>\n",
    "</figure>\n",
    "\n",
    "\n",
    "\n",
    "Fuente: AIS Group, \"Cómo evaluar el riesgo de crédito a empresas en escenarios COVID-19\", en https://ais-int.com/como-evaluar-el-riesgo-de-credito-empresas-en-escenarios-covid-19/"
   ]
  },
  {
   "cell_type": "markdown",
   "id": "351debfc-9a6c-435c-921a-b28d8c0eb54b",
   "metadata": {},
   "source": [
    "# <span style=\"color:green\"><center>Reporte No. 1 - Propuesta del proyecto</center></span>"
   ]
  },
  {
   "cell_type": "markdown",
   "id": "33c7219c-3720-422a-a93f-a306274fb11d",
   "metadata": {
    "tags": []
   },
   "source": [
    "## <span style=\"color:red\">Asesor principal: Daniel Montenegro</span>"
   ]
  },
  {
   "cell_type": "markdown",
   "id": "2a58703e-e9de-4ed5-a43a-c4d0d7e93525",
   "metadata": {},
   "source": [
    "## <span style=\"color:red\">Autor: David Manuel Gómez Bolívar</span>"
   ]
  },
  {
   "cell_type": "markdown",
   "id": "2ea6bf7c-7179-4412-88b3-873e80575949",
   "metadata": {},
   "source": [
    "## <span style=\"color:red\">Introducción</span>"
   ]
  },
  {
   "cell_type": "markdown",
   "id": "8314d83a-aa9b-4206-b25e-4cf51521c6e8",
   "metadata": {},
   "source": [
    "Los modelos de riesgo de crédito tradicionales tienen dos partes:\n",
    "\n",
    "1. Cuantitativo: por medio de los indicadores financieros de las contrapartes / emisores / deudores, se analiza su condición financiera. Cuando el alcance es de índole empresarial, corporativo o institucional; se utiliza el CAMEL (Capital, Assets, Management, Earnings and Liquidity) para lograr determinar un puntaje (generalmente entre 0 y 100)\n",
    "\n",
    "Fuente: AsoBancaria, AMV, Banco de la República, Ministerio de Hacienda y Crédito Público, \"Metodología de selección de las entidades financieras que participarán en el esquema del Indicador Bancario de Referencia\", en https://www.asobancaria.com/wp-content/uploads/2019-08-metodologia-de-seleccion-entidades-actualizada-VF.pdf, p. 3-8.\n",
    "\n",
    "2. Cualitativo: teniendo en cuenta que existen Agencias Calificadoras de Riesgo, las cuales realizan un análisis depurado del riesgo de crédito (impago / default) de los emisores de deuda en el mercado público de valores, determinan que una entidad puede ser grado inversión o grado especulación. A continuación, un ejemplo de los ratings crediticios otorgados por S&P, una de las cuatro Agencias más grandes del mundo, según lo sintetizado por Bankinter:"
   ]
  },
  {
   "cell_type": "markdown",
   "id": "eef6bc87-74ea-41c3-a50d-18ca2ad462e0",
   "metadata": {},
   "source": [
    "<figure>\n",
    "<center>\n",
    "<img src=\"https://www.bankinter.com/file_source/blog/Contents/Noticias/images-static/rating-deuda-largo-plazo.PNG\" width=\"350\" height=\"250\" align=\"center\"/>                      </center>\n",
    "</figure>\n",
    "\n",
    "Fuente: Bankinter, \"Blog de Economía y Finanzas Bankinter\", en https://www.bankinter.com/blog/economia/leer-rating-agencias-calificacion-financiera"
   ]
  },
  {
   "cell_type": "markdown",
   "id": "7ca329a6-e226-47cd-95d9-008f1e93f1a0",
   "metadata": {},
   "source": [
    "Generalmente, la parte cuantitativa tiene entre un 60% u 80% del total de puntaje, y la parte cualitativa, entre el 40% o 20% restante, según corresponda.\n",
    "\n",
    "Sobre el puntaje final, cabe mencionar que el mismo está entre 0 y 100. No obstante, a ese puntaje, se le puede agregar un ajuste adicional, como el siguiente:\n",
    "\n",
    "3. Ajustes cualitivativos: más allá de lo obtenido en las partes 1 y 2 previamente explicadas, se puede agregar un puntaje adicional entre 3 y 5, para cada uno de los siguientes items:\n",
    "\n",
    "* Respaldo internacional: si la contraparte / emisor es filial de una entidad internacional, se supone el potencial respaldo de su matriz ante inconvenientes financieros.\n",
    "* Conglomerado económico / financiero: si la contraparte / emisor es una entidad que hace parte de un conglomerado económico, entiendo este como una serie de entidades que son parte de una \"holding\" con presencia en industrias diferentes al sector financiero, o si es parte de una serie de entidades controladas por una \"holding\" del sector financiero. Por ende, se supone que la \"holding\" respaldaría a la contraparte / emisor.\n",
    "\n",
    "Fuente: [Elaboración propia]."
   ]
  },
  {
   "cell_type": "markdown",
   "id": "99edc1cb-84f1-402e-8489-203741156ebb",
   "metadata": {},
   "source": [
    "De esta manera, el puntaje que puede obtener una contraparte / emisor puede estar entre 0 y 110. Generalmente, se observa que se otorga cupo de contraparte / emisor cuando la entidad analizada tiene un puntaje al menos de 60 o 70."
   ]
  },
  {
   "cell_type": "markdown",
   "id": "45f61a13-be81-41e6-af5c-9b1050a2e058",
   "metadata": {},
   "source": [
    "### <span style=\"color:purple\">Nota: cuando la contraparte / emisor es internacional, es relevante tener presente el nivel de riesgo país del estado donde dicha entidad está ubicada. Sin embargo, no es algo que afecte el puntaje, pero si es un índice (EMBI, CDS, etc) al cual se le hace seguimiento.</span>"
   ]
  },
  {
   "cell_type": "markdown",
   "id": "f7de694a-7199-4518-a674-38e4d68d48f3",
   "metadata": {},
   "source": [
    "## <span style=\"color:red\">Descripción del problema</span>"
   ]
  },
  {
   "cell_type": "markdown",
   "id": "2cdc5320-f7fd-4c85-8d82-5a1323de2fcc",
   "metadata": {},
   "source": [
    "Los modelos de riesgo de crédito tradicionales son estáticos. Es decir, no cuentan con un mecanismo de ajuste a través de alertas.\n",
    "\n",
    "Teniendo en cuenta el avance de las comunicaciones, en el marco del concepto de aldea global, es necesario establecer un modelo de alertas para determinar si se debe disminuir (o hasta cerrar) el cupo de contraparte / emisor que generó el modelo de riesgo de crédito; según el análisis de sentimiento de las noticias que se generan en determinadas páginas web.\n",
    "\n",
    "Fuente: Wikipedia, \"Aldea global\", en https://es.wikipedia.org/wiki/Aldea_global#:~:text=El%20t%C3%A9rmino%20Aldea%20Global%20hace,los%20medios%20electr%C3%B3nicos%20de%20comunicaci%C3%B3n & [Elaboración propia]."
   ]
  },
  {
   "cell_type": "markdown",
   "id": "f1d06842-3536-48fe-9590-25902d27c77c",
   "metadata": {},
   "source": [
    "## <span style=\"color:red\">Fuentes de datos</span>"
   ]
  },
  {
   "cell_type": "markdown",
   "id": "1f47c105-91ed-43a2-b7f1-afb47344ed52",
   "metadata": {},
   "source": [
    "* [De prueba] Hugging face\n",
    "* Noticias de páginas web locales: BBC, Deutsche Welle, France24, TV5, NHK, Wall Street Journal\n",
    "* Noticias de Bloomberg\n",
    "* Twitter\n",
    "* Otras páginas web [a sugerencia de los profesores y/o monitores del Diplomado en Ciencia de Datos]\n",
    "* History Wizard de Bloomberg con Credit Default Swap de estados donde están ubicadas contrapartes internacionales (USA, Canadá, México, Reino Unido, Francia, España, Alemania, Italia, Países Bajos, Japón, Brasil, Perú, Guatemala)"
   ]
  },
  {
   "cell_type": "markdown",
   "id": "0a77b5ee-84c7-4354-bc7f-7ad9e33d0f75",
   "metadata": {},
   "source": [
    "## <span style=\"color:red\">Procesamiento ETL</span>"
   ]
  },
  {
   "cell_type": "markdown",
   "id": "aaf45b34-b4d0-48f3-935c-145e1da9ee6f",
   "metadata": {},
   "source": [
    "1. Extracción de información\n",
    "\n",
    "* Hugging face: zeroshttwitter news sentiment sent train\n",
    "* Bloomberg: ¿base de datos relacional?\n",
    "    \n",
    "2. Transformación de información\n",
    "\n",
    "* Definición de palabras clave para sentimiento de noticias (bullish - buy --> cupo estable, bearish-sell --> revisar cupo)\n",
    "\n",
    "3. Carga de datos\n",
    "    \n",
    "* [No lo se, pero lo aprenderé cuando lleguemos a esa parte de la clase. Aún estoy revisando Hugging Face, Roberta y los notebook de NLP. Gracias]"
   ]
  },
  {
   "cell_type": "markdown",
   "id": "372f46cd-a149-46d5-96de-f6a70b35380e",
   "metadata": {},
   "source": [
    "## <span style=\"color:red\">Exploración de los datos</span>"
   ]
  },
  {
   "cell_type": "markdown",
   "id": "b254403b-5074-400e-a07f-275b1a2c89d5",
   "metadata": {},
   "source": [
    "* Hugging face: zeroshttwitter news sentiment sent train\n",
    "* Web scrapping: páginas web y Twitter\n",
    "* Bloomberg: ¿base de datos relacional?\n",
    "* Procesamiento de lenguaje natural (sólo en idioma inglés)\n"
   ]
  },
  {
   "cell_type": "markdown",
   "id": "5ab50863-13d5-43ff-8372-02aa3eeab55e",
   "metadata": {},
   "source": [
    "## <span style=\"color:red\">Técnicas de modelación propuestas</span>"
   ]
  },
  {
   "cell_type": "markdown",
   "id": "c2a3dc87-55b3-4cec-90a5-09ec91efbcd8",
   "metadata": {},
   "source": [
    "Procesamiento de Lenguaje Natural\n",
    "\n",
    "* Marca para definir el nombre de la contraparte/emisor\n",
    "* Tabla de contraparte/emisor por país\n",
    "* Definición de palabras clave para sentimiento de noticias (bullish - buy --> cupo estable, bearish-sell --> revisar cupo)"
   ]
  },
  {
   "cell_type": "markdown",
   "id": "3eaefa46-831c-4a1b-90ff-f57296111a18",
   "metadata": {},
   "source": [
    "## <span style=\"color:red\">Conocimientos requeridos para el desarrollo del proyecto:</span>"
   ]
  },
  {
   "cell_type": "markdown",
   "id": "8f76bda6-0275-4d66-bdef-60f997a76d07",
   "metadata": {},
   "source": [
    "- ¿Bases de datos relacionales?\n",
    "- Python : nivel medio\n",
    "- Modelos supervisados: predictivos (para el tema de riesgo país)\n",
    "- Modelos de lenguaje natural (para el modelo de alertas principal, según noticias)"
   ]
  },
  {
   "cell_type": "markdown",
   "id": "404983b7-2e0a-44bf-bb6b-389299a52f4e",
   "metadata": {},
   "source": [
    "## <span style=\"color:red\">Resultados esperados</span>"
   ]
  },
  {
   "cell_type": "markdown",
   "id": "4839ac3e-9f52-47c0-a8c1-71ff79f554bf",
   "metadata": {},
   "source": [
    "Matriz con la siguiente estructura de columnas:\n",
    "1. Fuente\n",
    "2. Contraparte/emisor\n",
    "3. País\n",
    "4. Palabras clave\n",
    "5. Sentimiento: mantener cupo, revisar cupo"
   ]
  },
  {
   "cell_type": "markdown",
   "id": "6c76b36a-d4d4-460f-9df4-4ccd057d565c",
   "metadata": {},
   "source": [
    "## <span style=\"color:red\">Tiempo de desarrollo esperado</span>"
   ]
  },
  {
   "cell_type": "markdown",
   "id": "025d3fe1-c7da-438d-b7e9-fbf0362593e7",
   "metadata": {},
   "source": [
    "6 semanas\n",
    "\n",
    "### <span style=\"color:purple\">Nota: no soy Ingeniero de Sistemas, estudié Finanzas y Relaciones Internacionales. Apenas estoy aprendiendo Python, y por eso he documentado en el archivo general del proyectos \"Disponible para trabajar en equipo ...\"</span>\n",
    "\n",
    "## Muchas gracias. Excelente Diplomado! "
   ]
  }
 ],
 "metadata": {
  "kernelspec": {
   "display_name": "Python 3",
   "language": "python",
   "name": "python3"
  },
  "language_info": {
   "codemirror_mode": {
    "name": "ipython",
    "version": 3
   },
   "file_extension": ".py",
   "mimetype": "text/x-python",
   "name": "python",
   "nbconvert_exporter": "python",
   "pygments_lexer": "ipython3",
   "version": "3.8.8"
  }
 },
 "nbformat": 4,
 "nbformat_minor": 5
}
